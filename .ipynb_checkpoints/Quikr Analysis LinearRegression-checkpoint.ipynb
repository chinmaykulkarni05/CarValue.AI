{
 "cells": [
  {
   "cell_type": "markdown",
   "id": "35b41181-3bf3-48a3-8a23-550c5f3dbaa0",
   "metadata": {},
   "source": [
    "## Importing necessary python libraries \n",
    "- Pandas        : used for data manipulation, analysis & working with structured data (tables,spreedsheets)\n",
    "- Numpy         : used for numerical computing, as it provides large/multi dim arrays, matrices / math functions to operate on these arrays\n",
    "- Matplotlib    : used for creating static, animated & interactive visualizations. pyplot is module in that library, which is for creating figures, plotting data, and formatting plots"
   ]
  },
  {
   "cell_type": "code",
   "execution_count": 1,
   "id": "2b631d10-4b91-4ee1-9a5a-fa56024fff1c",
   "metadata": {},
   "outputs": [
    {
     "ename": "ModuleNotFoundError",
     "evalue": "No module named 'matplotlib'",
     "output_type": "error",
     "traceback": [
      "\u001b[1;31m---------------------------------------------------------------------------\u001b[0m",
      "\u001b[1;31mModuleNotFoundError\u001b[0m                       Traceback (most recent call last)",
      "Cell \u001b[1;32mIn[1], line 3\u001b[0m\n\u001b[0;32m      1\u001b[0m \u001b[38;5;28;01mimport\u001b[39;00m \u001b[38;5;21;01mpandas\u001b[39;00m \u001b[38;5;28;01mas\u001b[39;00m \u001b[38;5;21;01mpd\u001b[39;00m\n\u001b[0;32m      2\u001b[0m \u001b[38;5;28;01mimport\u001b[39;00m \u001b[38;5;21;01mnumpy\u001b[39;00m \u001b[38;5;28;01mas\u001b[39;00m \u001b[38;5;21;01mnp\u001b[39;00m\n\u001b[1;32m----> 3\u001b[0m \u001b[38;5;28;01mimport\u001b[39;00m \u001b[38;5;21;01mmatplotlib\u001b[39;00m\u001b[38;5;21;01m.\u001b[39;00m\u001b[38;5;21;01mpyplot\u001b[39;00m \u001b[38;5;28;01mas\u001b[39;00m \u001b[38;5;21;01mplt\u001b[39;00m\n\u001b[0;32m      4\u001b[0m \u001b[38;5;28;01mimport\u001b[39;00m \u001b[38;5;21;01mmatplotlib\u001b[39;00m \u001b[38;5;28;01mas\u001b[39;00m \u001b[38;5;21;01mmpl\u001b[39;00m\n\u001b[0;32m      5\u001b[0m get_ipython()\u001b[38;5;241m.\u001b[39mrun_line_magic(\u001b[38;5;124m'\u001b[39m\u001b[38;5;124mmatplotlib\u001b[39m\u001b[38;5;124m'\u001b[39m, \u001b[38;5;124m'\u001b[39m\u001b[38;5;124minline\u001b[39m\u001b[38;5;124m'\u001b[39m)\n",
      "\u001b[1;31mModuleNotFoundError\u001b[0m: No module named 'matplotlib'"
     ]
    }
   ],
   "source": [
    "import pandas as pd\n",
    "import numpy as np\n",
    "import matplotlib.pyplot as plt\n",
    "import matplotlib as mpl\n",
    "%matplotlib inline\n",
    "mpl.style.use('ggplot')"
   ]
  },
  {
   "cell_type": "markdown",
   "id": "e504be67-7b20-4b1c-a746-4723c8233c0d",
   "metadata": {},
   "source": [
    "- pd.read_csv() function of pandas to read the csv dataset file "
   ]
  },
  {
   "cell_type": "code",
   "execution_count": null,
   "id": "ddd8d0b6-eb11-41f0-83c7-37dc774d61a3",
   "metadata": {},
   "outputs": [],
   "source": [
    "car=pd.read_csv('quikr_car.csv')"
   ]
  },
  {
   "cell_type": "markdown",
   "id": "852b6596-23a2-447c-98d3-08e30e1410a9",
   "metadata": {},
   "source": [
    "- .head() function of pandas to get first 5 rows, (starting from 0) by default"
   ]
  },
  {
   "cell_type": "code",
   "execution_count": null,
   "id": "afa765b8-a52a-47b6-9d34-aaf97484baca",
   "metadata": {},
   "outputs": [],
   "source": [
    "car.head()"
   ]
  },
  {
   "cell_type": "markdown",
   "id": "2ac2f6df-e2b1-4d15-a5e2-b237e8487198",
   "metadata": {},
   "source": [
    "- shape is an attribute of Pandas DataFrame that returns a tuple(rows*col) representing the dimensionality of the DataFrame"
   ]
  },
  {
   "cell_type": "code",
   "execution_count": null,
   "id": "d9500d25-0b35-406e-b829-7afa1a5d6707",
   "metadata": {},
   "outputs": [],
   "source": [
    "car.shape"
   ]
  },
  {
   "cell_type": "markdown",
   "id": "9f7248e6-b319-4bcd-a68b-ded9e809f332",
   "metadata": {},
   "source": [
    "- .info() gives a concise summary of your DataFrame"
   ]
  },
  {
   "cell_type": "code",
   "execution_count": null,
   "id": "6656b9e8-1be6-4309-a45c-dece3963d8e8",
   "metadata": {},
   "outputs": [],
   "source": [
    "car.info()"
   ]
  },
  {
   "cell_type": "markdown",
   "id": "3caf64e8-dbc3-443b-8f40-3b6ff76574cf",
   "metadata": {},
   "source": [
    "## Creating backup copy"
   ]
  },
  {
   "cell_type": "code",
   "execution_count": null,
   "id": "da5703cf-64c8-4ac7-828a-d87b119b488b",
   "metadata": {},
   "outputs": [],
   "source": [
    "backup=car.copy()"
   ]
  },
  {
   "cell_type": "markdown",
   "id": "d9abf1a6-7065-4787-ac7d-8e757ab3c5ef",
   "metadata": {},
   "source": [
    "## Quality"
   ]
  },
  {
   "cell_type": "markdown",
   "id": "d47b72e0-2c09-4d53-8b07-b367ae976c91",
   "metadata": {},
   "source": [
    "- names are pretty inconsistent\n",
    "- names have company names attached to it\n",
    "- some names are spam like 'Maruti Ertiga showroom condition with' and 'Well mentained Tata Sumo'\n",
    "- company: many of the names are not of any company like 'Used', 'URJENT', and so on.\n",
    "- year has many non-year values\n",
    "- year is in object. Change to integer\n",
    "- Price has Ask for Price\n",
    "- Price has commas in its prices and is in object\n",
    "- kms_driven has object values with kms at last.\n",
    "- It has nan values and two rows have 'Petrol' in them\n",
    "- fuel_type has nan values"
   ]
  },
  {
   "cell_type": "markdown",
   "id": "e06345cf-67dd-48e7-8f56-f87e1d5bdca5",
   "metadata": {},
   "source": [
    "- filtering out any rows from the car DataFrame where the 'year' column contains non-numeric values."
   ]
  },
  {
   "cell_type": "code",
   "execution_count": null,
   "id": "9482b320-1e81-4127-b107-a5b937d27a60",
   "metadata": {},
   "outputs": [],
   "source": [
    "car=car[car['year'].str.isnumeric()]"
   ]
  },
  {
   "cell_type": "markdown",
   "id": "f2ecce46-92c6-40a3-a6b2-179f38a7f853",
   "metadata": {},
   "source": [
    "- converting the data type of the 'year' column from object to integer"
   ]
  },
  {
   "cell_type": "code",
   "execution_count": null,
   "id": "f58207b6-a74f-47e0-a0b9-4db2d91d7af1",
   "metadata": {},
   "outputs": [],
   "source": [
    "car['year']=car['year'].astype(int)"
   ]
  },
  {
   "cell_type": "markdown",
   "id": "945ecaee-830c-49b9-9154-031433964881",
   "metadata": {},
   "source": [
    "- removing rows where the 'Price' column contains the string 'Ask For Price'"
   ]
  },
  {
   "cell_type": "code",
   "execution_count": null,
   "id": "fd2d3d05-797e-4612-abd0-b5311e280944",
   "metadata": {},
   "outputs": [],
   "source": [
    "car=car[car['Price']!='Ask For Price']"
   ]
  },
  {
   "cell_type": "markdown",
   "id": "1c410f0e-66f2-49ca-aec9-3ae689ca3b3c",
   "metadata": {},
   "source": [
    "- clean and convert the 'Price' column in the car DataFrame from a string format (with commas) to an integer format"
   ]
  },
  {
   "cell_type": "code",
   "execution_count": null,
   "id": "f8550ef0-c2ab-47c9-a2c9-1e08118d57cc",
   "metadata": {},
   "outputs": [],
   "source": [
    "car['Price']=car['Price'].str.replace(',','').astype(int)"
   ]
  },
  {
   "cell_type": "markdown",
   "id": "4db4d466-e9b4-4098-be0e-9c5e88448a65",
   "metadata": {},
   "source": [
    "- clean the 'kms_driven' column by extracting the numerical part and removing commas"
   ]
  },
  {
   "cell_type": "code",
   "execution_count": null,
   "id": "22215a1f-e74d-47b7-9cca-647dfed9312c",
   "metadata": {},
   "outputs": [],
   "source": [
    "car['kms_driven']=car['kms_driven'].str.split().str.get(0).str.replace(',','')"
   ]
  },
  {
   "cell_type": "markdown",
   "id": "a618fcb6-c974-4488-9161-0144ef8e16d9",
   "metadata": {},
   "source": [
    "- filter the DataFrame to keep only rows where the 'kms_driven' column contains numeric values"
   ]
  },
  {
   "cell_type": "code",
   "execution_count": null,
   "id": "b9186ddc-c963-46cf-8e07-82292cc87e7b",
   "metadata": {},
   "outputs": [],
   "source": [
    "car=car[car['kms_driven'].str.isnumeric()]"
   ]
  },
  {
   "cell_type": "markdown",
   "id": "e300d530-943f-4a49-9c7a-8e45a9360254",
   "metadata": {},
   "source": [
    "- convert the 'kms_driven' column to integer type after ensuring all values are numeric"
   ]
  },
  {
   "cell_type": "code",
   "execution_count": null,
   "id": "bbdd3f92-1e6d-47e2-8001-fba73a14d995",
   "metadata": {},
   "outputs": [],
   "source": [
    "car['kms_driven']=car['kms_driven'].astype(int)"
   ]
  },
  {
   "cell_type": "markdown",
   "id": "206d51c6-0d65-4061-86d7-140827329e56",
   "metadata": {},
   "source": [
    "- filter the DataFrame to remove rows where the 'fuel_type' column contains missing (NaN) values"
   ]
  },
  {
   "cell_type": "code",
   "execution_count": null,
   "id": "1e0f6c99-6e29-46f1-a257-0ff011a4ac11",
   "metadata": {},
   "outputs": [],
   "source": [
    "car=car[~car['fuel_type'].isna()]"
   ]
  },
  {
   "cell_type": "code",
   "execution_count": null,
   "id": "72a49554-6507-47d2-ab12-1375c5cf908c",
   "metadata": {},
   "outputs": [],
   "source": [
    "car.shape"
   ]
  },
  {
   "cell_type": "markdown",
   "id": "2d2b4860-7986-4baa-b749-4cadbbd151fd",
   "metadata": {},
   "source": [
    "- truncates the 'name' column to keep only the first three words of each entry"
   ]
  },
  {
   "cell_type": "code",
   "execution_count": null,
   "id": "b7909eec-3b35-429b-85a2-78a7a1cd4f7a",
   "metadata": {},
   "outputs": [],
   "source": [
    "car['name']=car['name'].str.split().str.slice(start=0,stop=3).str.join(' ')"
   ]
  },
  {
   "cell_type": "markdown",
   "id": "69822ceb-e52e-4030-8472-cff9b741c5aa",
   "metadata": {},
   "source": [
    "- resets the DataFrame index to a default integer index, dropping the old index and avoiding the creation of a new column for it"
   ]
  },
  {
   "cell_type": "code",
   "execution_count": null,
   "id": "5df0f88e-cb69-4d47-bdb2-4f073885c316",
   "metadata": {},
   "outputs": [],
   "source": [
    "car=car.reset_index(drop=True)"
   ]
  },
  {
   "cell_type": "code",
   "execution_count": null,
   "id": "bce17fa0-3f28-433a-9184-f70326046372",
   "metadata": {},
   "outputs": [],
   "source": [
    "car"
   ]
  },
  {
   "cell_type": "markdown",
   "id": "57ca60ee-8f04-4b52-a2b3-ecdad6ed9268",
   "metadata": {},
   "source": [
    "- saving the cleaned DataFrame car to a CSV file named 'Cleaned_Car_data.csv'"
   ]
  },
  {
   "cell_type": "code",
   "execution_count": null,
   "id": "07538808-65bb-4dd6-9003-f7147fde58ca",
   "metadata": {},
   "outputs": [],
   "source": [
    "car.to_csv('Cleaned_Car_data.csv')"
   ]
  },
  {
   "cell_type": "code",
   "execution_count": null,
   "id": "cf43e5b4-e01e-4e80-81f8-fac6411ea42f",
   "metadata": {},
   "outputs": [],
   "source": [
    "car.info()"
   ]
  },
  {
   "cell_type": "markdown",
   "id": "8704eb70-5160-47ae-a91e-20b4d09ee682",
   "metadata": {},
   "source": [
    "- get summary of statistics for all columns in the DataFrame, including count, unique values, top (most frequent) values, and frequency for non-numeric data, as well as standard statistical measures for numeric data"
   ]
  },
  {
   "cell_type": "code",
   "execution_count": null,
   "id": "177c2cc4-a494-41f7-bf5b-a3b042b60551",
   "metadata": {},
   "outputs": [],
   "source": [
    "car.describe(include='all')"
   ]
  },
  {
   "cell_type": "markdown",
   "id": "65d76398-c0bf-4895-9ae2-61dd2bd0766a",
   "metadata": {},
   "source": [
    "- filters the DataFrame to keep only rows where the 'Price' column values are less than 6,000,000"
   ]
  },
  {
   "cell_type": "code",
   "execution_count": null,
   "id": "9379c28b-e970-452c-be74-121d6d33263c",
   "metadata": {},
   "outputs": [],
   "source": [
    "car=car[car['Price']<6000000]"
   ]
  },
  {
   "cell_type": "code",
   "execution_count": null,
   "id": "9d446554-0b10-45b7-b3df-0c733f53484a",
   "metadata": {},
   "outputs": [],
   "source": [
    "car['company'].unique()"
   ]
  },
  {
   "cell_type": "code",
   "execution_count": null,
   "id": "cd395cda-f6b8-4d5d-af9e-b6d9dd8fdf2c",
   "metadata": {},
   "outputs": [],
   "source": [
    "import seaborn as sns"
   ]
  },
  {
   "cell_type": "markdown",
   "id": "213b2085-2462-4275-9d91-86ca35307e33",
   "metadata": {},
   "source": [
    "- creates a boxplot using Seaborn to visualize the distribution of car prices (Price) across different companies (company) from the car dataset. The x-axis labels are rotated 40 degrees to the right for better readability, and the figure size is set to 15x7 inches."
   ]
  },
  {
   "cell_type": "code",
   "execution_count": null,
   "id": "89a99f44-c82e-4658-872b-b20d1a3067c4",
   "metadata": {},
   "outputs": [],
   "source": [
    "plt.subplots(figsize=(15,7))\n",
    "ax=sns.boxplot(x='company',y='Price',data=car)\n",
    "ax.set_xticklabels(ax.get_xticklabels(),rotation=40,ha='right')\n",
    "plt.show()"
   ]
  },
  {
   "cell_type": "markdown",
   "id": "e475f0fd-33f8-40ae-b153-c0c06ed3535e",
   "metadata": {},
   "source": [
    "- This code generates a swarm plot using Seaborn to display the distribution of car prices (Price) by year (year) from the car dataset. The plot's x-axis labels are rotated 40 degrees for clarity, with the figure size set to 20x10 inches for better visibility"
   ]
  },
  {
   "cell_type": "code",
   "execution_count": null,
   "id": "8d4b2c0f-def0-4ce0-8018-eeb523f51e25",
   "metadata": {},
   "outputs": [],
   "source": [
    "plt.subplots(figsize=(20,10))\n",
    "ax=sns.swarmplot(x='year',y='Price',data=car)\n",
    "ax.set_xticklabels(ax.get_xticklabels(),rotation=40,ha='right')\n",
    "plt.show()"
   ]
  },
  {
   "cell_type": "markdown",
   "id": "8ac67c48-d0ff-4a41-adf8-69310a0c2f9f",
   "metadata": {},
   "source": [
    "- This code creates a relational plot using Seaborn to visualize the relationship between kilometers driven (kms_driven) and car prices (Price) in the car dataset. The plot is sized with a height of 7 inches and an aspect ratio of 1.5 to ensure a wider view."
   ]
  },
  {
   "cell_type": "code",
   "execution_count": null,
   "id": "6306d9cc-8cdd-45b2-ae91-ff261c5397ad",
   "metadata": {},
   "outputs": [],
   "source": [
    "sns.relplot(x='kms_driven',y='Price',data=car,height=7,aspect=1.5)"
   ]
  },
  {
   "cell_type": "markdown",
   "id": "43acb68c-3774-4507-a7ec-ed9d1446063b",
   "metadata": {},
   "source": [
    "- This code generates a boxplot using Seaborn to compare the distribution of car prices (Price) across different fuel types (fuel_type) in the car dataset. The plot is displayed with a figure size of 14x7 inches to enhance visibility."
   ]
  },
  {
   "cell_type": "code",
   "execution_count": null,
   "id": "b9e85de0-40ff-4ed7-ac9d-bbb45fd76e40",
   "metadata": {},
   "outputs": [],
   "source": [
    "plt.subplots(figsize=(14,7))\n",
    "sns.boxplot(x='fuel_type',y='Price',data=car)"
   ]
  },
  {
   "cell_type": "markdown",
   "id": "48594753-b9a5-4fd2-855a-d76839cd40ce",
   "metadata": {},
   "source": [
    "- his code creates a relational plot using Seaborn to visualize car prices (Price) across different companies (company), with points colored by fuel type (hue='fuel_type') and sized based on the year of manufacture (size='year'). The x-axis labels are rotated 40 degrees for readability, and the plot is sized with a height of 7 inches and an aspect ratio of 2 for a wider display."
   ]
  },
  {
   "cell_type": "code",
   "execution_count": null,
   "id": "d1824957-6571-42fb-a736-56f76f34402b",
   "metadata": {},
   "outputs": [],
   "source": [
    "ax=sns.relplot(x='company',y='Price',data=car,hue='fuel_type',size='year',height=7,aspect=2)\n",
    "ax.set_xticklabels(rotation=40,ha='right')"
   ]
  },
  {
   "cell_type": "markdown",
   "id": "c3f0ae0e-63e3-4f71-ad1c-256028f74d1f",
   "metadata": {},
   "source": [
    "- separate the features (X) and the target variable (y) from the car dataset. The features include name, company, year, kms_driven, and fuel_type, while the target variable is Price, which you intend to predict."
   ]
  },
  {
   "cell_type": "code",
   "execution_count": null,
   "id": "313df151-eafa-483b-964d-390e890533b2",
   "metadata": {},
   "outputs": [],
   "source": [
    "X=car[['name','company','year','kms_driven','fuel_type']]\n",
    "y=car['Price']"
   ]
  },
  {
   "cell_type": "code",
   "execution_count": null,
   "id": "75fb78db-02ee-4ea9-9fb2-bb2745a6f808",
   "metadata": {},
   "outputs": [],
   "source": [
    "X"
   ]
  },
  {
   "cell_type": "code",
   "execution_count": null,
   "id": "d07942a0-0b9e-4f9e-9bc5-b7e09709bc58",
   "metadata": {},
   "outputs": [],
   "source": [
    "y.shape"
   ]
  },
  {
   "cell_type": "markdown",
   "id": "eed051e2-78d8-4bb0-8488-089d7f7a1601",
   "metadata": {},
   "source": [
    "- splits the dataset into training and testing sets using Scikit-learn's train_test_split function. It allocates 80% of the data for training (X_train, y_train) and 20% for testing (X_test, y_test)."
   ]
  },
  {
   "cell_type": "code",
   "execution_count": null,
   "id": "46006df4-19d2-4958-b049-157615378633",
   "metadata": {},
   "outputs": [],
   "source": [
    "from sklearn.model_selection import train_test_split\n",
    "X_train,X_test,y_train,y_test=train_test_split(X,y,test_size=0.2)"
   ]
  },
  {
   "cell_type": "markdown",
   "id": "1053c636-78cb-4b17-8bd3-98cba9dcef75",
   "metadata": {},
   "source": [
    "- from sklearn library , module linear_model, import LinearRegression class"
   ]
  },
  {
   "cell_type": "code",
   "execution_count": null,
   "id": "690439f3-69b9-47d1-97cb-07c8e7db5dd6",
   "metadata": {},
   "outputs": [],
   "source": [
    "from sklearn.linear_model import LinearRegression"
   ]
  },
  {
   "cell_type": "markdown",
   "id": "165bfc4a-d2df-46c1-b9c4-f4142e0bb5ea",
   "metadata": {},
   "source": [
    "- OneHotEncoder for converting categorical variables into a binary (one-hot) encoded format, make_column_transformer for applying different transformations to specific columns, make_pipeline for creating a sequential pipeline of transformations and models, and r2_score for evaluating the performance of a regression model by calculating the R² score."
   ]
  },
  {
   "cell_type": "code",
   "execution_count": null,
   "id": "d11e6e09-043a-4080-a2d0-3a84b2d2ea09",
   "metadata": {},
   "outputs": [],
   "source": [
    "from sklearn.preprocessing import OneHotEncoder\n",
    "from sklearn.compose import make_column_transformer\n",
    "from sklearn.pipeline import make_pipeline\n",
    "from sklearn.metrics import r2_score"
   ]
  },
  {
   "cell_type": "markdown",
   "id": "85c21596-f996-444e-9c07-a60e5afe971e",
   "metadata": {},
   "source": [
    "- initialize a OneHotEncoder object and fits it to the categorical columns name, company, and fuel_type in the X dataset. This process prepares the encoder to convert these categorical variables into binary (one-hot) encoded vectors for use in machine learning models."
   ]
  },
  {
   "cell_type": "code",
   "execution_count": null,
   "id": "29cc93c6-f3f5-48ee-927e-c5a1e7740bc9",
   "metadata": {},
   "outputs": [],
   "source": [
    "ohe=OneHotEncoder()\n",
    "ohe.fit(X[['name','company','fuel_type']])"
   ]
  },
  {
   "cell_type": "markdown",
   "id": "6a7958ad-f898-4514-89d2-be860d41bcdf",
   "metadata": {},
   "source": [
    "- creates a ColumnTransformer that applies one-hot encoding to the name, company, and fuel_type columns using the predefined categories from ohe. The remainder='passthrough' parameter ensures that all other columns not specified (e.g., year and kms_driven) are left unchanged during the transformation."
   ]
  },
  {
   "cell_type": "code",
   "execution_count": null,
   "id": "5189572f-091d-41ce-9dbd-2a771b4e010d",
   "metadata": {},
   "outputs": [],
   "source": [
    "column_trans=make_column_transformer((OneHotEncoder(categories=ohe.categories_),['name','company','fuel_type']),\n",
    "                                    remainder='passthrough')"
   ]
  },
  {
   "cell_type": "markdown",
   "id": "4d308660-285b-427d-8b7f-1964efdb0ebc",
   "metadata": {},
   "source": [
    "- initializes a LinearRegression object from Scikit-learn, which will be used to build and train a linear regression model. This model aims to predict the target variable by fitting a linear relationship between the features and the target"
   ]
  },
  {
   "cell_type": "code",
   "execution_count": null,
   "id": "34bb202a-3489-4141-a493-e791f2819b13",
   "metadata": {},
   "outputs": [],
   "source": [
    "lr=LinearRegression()"
   ]
  },
  {
   "cell_type": "markdown",
   "id": "3c0493c0-d7e5-4aae-b33a-fde03184f878",
   "metadata": {},
   "source": [
    "- creates a pipeline that first applies the column_trans transformations (e.g., one-hot encoding) to the data and then fits a LinearRegression model. The pipeline streamlines the process by chaining data preprocessing and model training into a single step."
   ]
  },
  {
   "cell_type": "code",
   "execution_count": null,
   "id": "1d0fdb9c-167e-466d-a3a4-5a30f4a0d8d6",
   "metadata": {},
   "outputs": [],
   "source": [
    "pipe=make_pipeline(column_trans,lr)"
   ]
  },
  {
   "cell_type": "markdown",
   "id": "af3b2c55-8c36-4b9c-9ba0-95cf841bbc09",
   "metadata": {},
   "source": [
    "- trains the pipeline on the training data (X_train and y_train). It applies the preprocessing steps defined in the pipeline and then fits the LinearRegression model to the transformed training data."
   ]
  },
  {
   "cell_type": "code",
   "execution_count": null,
   "id": "1beba893-4146-4f31-845a-377e23da75cc",
   "metadata": {},
   "outputs": [],
   "source": [
    "pipe.fit(X_train,y_train)"
   ]
  },
  {
   "cell_type": "markdown",
   "id": "9d3f8527-8ac6-4405-99cb-cf8b020c6e86",
   "metadata": {},
   "source": [
    "- uses the trained pipeline to make predictions on the test data (X_test). It applies the same preprocessing steps and then predicts the target variable values (y_pred) based on the test features."
   ]
  },
  {
   "cell_type": "code",
   "execution_count": null,
   "id": "6ac6dafa-0fd2-404e-ade7-302b0988e308",
   "metadata": {},
   "outputs": [],
   "source": [
    "y_pred=pipe.predict(X_test)"
   ]
  },
  {
   "cell_type": "markdown",
   "id": "736093db-5241-4b74-81a0-3408d9ae8ae4",
   "metadata": {},
   "source": [
    "- calculates the R² score to evaluate the performance of the model by comparing the predicted values (y_pred) against the actual values (y_test). The R² score measures how well the model's predictions match the true values, with a higher score indicating better performance."
   ]
  },
  {
   "cell_type": "code",
   "execution_count": null,
   "id": "d5c52025-1365-4e28-b639-abff880ca8fd",
   "metadata": {},
   "outputs": [],
   "source": [
    "r2_score(y_test,y_pred)"
   ]
  },
  {
   "cell_type": "markdown",
   "id": "265bdf42-38a5-4460-84c3-7faa23b63739",
   "metadata": {},
   "source": [
    "- Performs a repeated evaluation of the model's performance by splitting the data into training and test sets with varying random states.\n",
    "- It trains a LR model within a pipeline, makes predictions, and calculates the R² score for each split, storing the scores in a list to assess variability and model stability.\n",
    "- Random State: Think of it like a \"seed\" for random number generation. If you plant the same seed in the ground, you'll grow the same plant every time. Similarly, setting a specific random_state ensures that every time you run your code, the random processes (like shuffling or splitting data) will produce the same results. This makes your experiments and results repeatable and consistent."
   ]
  },
  {
   "cell_type": "code",
   "execution_count": null,
   "id": "9f85a590-97c9-44ab-b8c9-32bc9395bd24",
   "metadata": {},
   "outputs": [],
   "source": [
    "scores=[]\n",
    "for i in range(1000):\n",
    "    X_train,X_test,y_train,y_test=train_test_split(X,y,test_size=0.1,random_state=i)\n",
    "    lr=LinearRegression()\n",
    "    pipe=make_pipeline(column_trans,lr)\n",
    "    pipe.fit(X_train,y_train)\n",
    "    y_pred=pipe.predict(X_test)\n",
    "    scores.append(r2_score(y_test,y_pred))"
   ]
  },
  {
   "cell_type": "markdown",
   "id": "0862b70d-e334-49db-ae02-f96bdb98f706",
   "metadata": {},
   "source": [
    "- code finds the index of the maximum R² score from the scores list. \n",
    "- It identifies which iteration of the model evaluation yielded the highest performance score"
   ]
  },
  {
   "cell_type": "code",
   "execution_count": null,
   "id": "46abcd08-b27d-4640-8a83-ee1ca4322e20",
   "metadata": {},
   "outputs": [],
   "source": [
    "np.argmax(scores)"
   ]
  },
  {
   "cell_type": "markdown",
   "id": "d6415594-4341-448f-8ebc-d6aa11dc6ddc",
   "metadata": {},
   "source": [
    "- It display the max score value at index, which we got previously(here 302)"
   ]
  },
  {
   "cell_type": "code",
   "execution_count": null,
   "id": "9bb5566a-e6f9-44c2-bdf6-fb6a213aee09",
   "metadata": {},
   "outputs": [],
   "source": [
    "scores[np.argmax(scores)]"
   ]
  },
  {
   "cell_type": "markdown",
   "id": "869d69ba-fced-4aff-bc95-ab055387987a",
   "metadata": {},
   "source": [
    "- code uses the trained pipeline to make a prediction based on a new input with the features 'Maruti Suzuki Swift', 'Maruti', 2019, 100, and 'Petrol'. The input data is formatted as a DataFrame with the same column names as X_test to ensure compatibility with the pipeline."
   ]
  },
  {
   "cell_type": "code",
   "execution_count": null,
   "id": "287ed6a5-a692-4051-8b72-4d5d0180bd70",
   "metadata": {},
   "outputs": [],
   "source": [
    "pipe.predict(pd.DataFrame(columns=X_test.columns,data=np.array(['Maruti Suzuki Swift','Maruti',2019,100,'Petrol']).reshape(1,5)))"
   ]
  },
  {
   "cell_type": "markdown",
   "id": "4e871f13-c786-41b1-a8ad-e431679bcfbe",
   "metadata": {},
   "source": [
    "- code splits the dataset into training and test sets using the best random state from previous evaluations to ensure consistency. It then trains a LinearRegression model within a pipeline on this split, makes predictions on the test set, and calculates the R² score to evaluate model performance."
   ]
  },
  {
   "cell_type": "code",
   "execution_count": null,
   "id": "4e82157e-123b-4038-b60a-963d40cecd2a",
   "metadata": {},
   "outputs": [],
   "source": [
    "X_train,X_test,y_train,y_test=train_test_split(X,y,test_size=0.1,random_state=np.argmax(scores))\n",
    "lr=LinearRegression()\n",
    "pipe=make_pipeline(column_trans,lr)\n",
    "pipe.fit(X_train,y_train)\n",
    "y_pred=pipe.predict(X_test)\n",
    "r2_score(y_test,y_pred)"
   ]
  },
  {
   "cell_type": "markdown",
   "id": "867aa056-39b1-4894-9a0b-24fdcd48d1de",
   "metadata": {},
   "source": [
    "- Importing pickle module, which allows you to serialize (save) and deserialize (load) Python objects.\n",
    "- This is useful for saving the state of a model or other data structures to a file, and then loading them later without needing to recreate or retrain them."
   ]
  },
  {
   "cell_type": "code",
   "execution_count": null,
   "id": "c19b12ec-5487-4f2a-9282-bf331c057de9",
   "metadata": {},
   "outputs": [],
   "source": [
    "import pickle"
   ]
  },
  {
   "cell_type": "markdown",
   "id": "8ac3c14b-26f7-447e-8750-14a3c2fce2d5",
   "metadata": {},
   "source": [
    "- Code serializes and saves the pipe object, which includes the trained pipeline, to a file named 'LinearRegressionModel.pkl' in binary mode ('wb').\n",
    "- w: Indicates that the file is being opened in write mode, which allows you to write data to the file.\n",
    "- b: Indicates that the file is being opened in binary mode, which is necessary for handling non-text data, such as serialized objects.\n",
    "- This allows you to persist the trained model and reload it later for future use without retraining."
   ]
  },
  {
   "cell_type": "code",
   "execution_count": null,
   "id": "b50f9668-2543-4f52-b7e4-14cf78da5e68",
   "metadata": {},
   "outputs": [],
   "source": [
    "pickle.dump(pipe,open('LinearRegressionModel.pkl','wb'))"
   ]
  },
  {
   "cell_type": "markdown",
   "id": "92f33193-8339-43ad-8002-81058571c3d4",
   "metadata": {},
   "source": [
    "- code uses the trained pipeline to make predictions based on a new input with the specified feature values ('Maruti Suzuki Swift', 'Maruti', 2019, 100, and 'Petrol').\n",
    "- The input data is formatted as a DataFrame with the correct column names ('name', 'company', 'year', 'kms_driven', 'fuel_type') to match the model's expected input format."
   ]
  },
  {
   "cell_type": "code",
   "execution_count": null,
   "id": "cbee0db3-593d-4aae-9997-502ddccdc106",
   "metadata": {},
   "outputs": [],
   "source": [
    "pipe.predict(pd.DataFrame(columns=['name','company','year','kms_driven','fuel_type'],data=np.array(['Maruti Suzuki Swift','Maruti',2019,100,'Petrol']).reshape(1,5)))"
   ]
  },
  {
   "cell_type": "code",
   "execution_count": null,
   "id": "c0bc8c11-b388-41f2-8b00-a43282f87238",
   "metadata": {},
   "outputs": [],
   "source": []
  },
  {
   "cell_type": "code",
   "execution_count": null,
   "id": "0f84b516-4fba-4cb0-93ef-43c7faef9ddc",
   "metadata": {},
   "outputs": [],
   "source": [
    "pipe.steps[0][1].transformers[0][1].categories[0]"
   ]
  },
  {
   "cell_type": "code",
   "execution_count": null,
   "id": "350c26fd-6af2-49c5-a16f-19554e6eac49",
   "metadata": {},
   "outputs": [],
   "source": [
    "# Assuming you have `y_test` and `y_pred` from your model\n",
    "plt.figure(figsize=(10, 6))\n",
    "\n",
    "# Create a DataFrame for plotting\n",
    "results = pd.DataFrame({'Actual': y_test, 'Predicted': y_pred})\n",
    "\n",
    "# Plot the results\n",
    "sns.scatterplot(x='Actual', y='Predicted', data=results)\n",
    "plt.plot([results['Actual'].min(), results['Actual'].max()],\n",
    "         [results['Actual'].min(), results['Actual'].max()],\n",
    "         'r--', lw=2)\n",
    "plt.xlabel('Actual Values')\n",
    "plt.ylabel('Predicted Values')\n",
    "plt.title('Actual vs Predicted Values')\n",
    "plt.show()"
   ]
  }
 ],
 "metadata": {
  "kernelspec": {
   "display_name": "Python 3 (ipykernel)",
   "language": "python",
   "name": "python3"
  },
  "language_info": {
   "codemirror_mode": {
    "name": "ipython",
    "version": 3
   },
   "file_extension": ".py",
   "mimetype": "text/x-python",
   "name": "python",
   "nbconvert_exporter": "python",
   "pygments_lexer": "ipython3",
   "version": "3.10.9"
  }
 },
 "nbformat": 4,
 "nbformat_minor": 5
}
